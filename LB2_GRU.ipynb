{
 "cells": [
  {
   "cell_type": "code",
   "execution_count": 1,
   "id": "99c58c9b-4798-4e08-956c-66459b711cbf",
   "metadata": {
    "scrolled": false,
    "tags": []
   },
   "outputs": [
    {
     "name": "stdout",
     "output_type": "stream",
     "text": [
      "3 3 6\n",
      "[('я', 6), ('обожнюю', 1), ('подорожувати', 1), ('відкриття', 1), ('нових', 1), ('місць', 1), ('та', 3), ('культур', 1), ('приносить', 1), ('мені', 1)]\n",
      "Я обожнюю подорожувати! Відкриття нових місць та культур приносить мені велику радість.\n",
      "[[ 8  9 10 11  2 12 13 14 15 16]\n",
      " [19  4 20  3 21 22 23 24  2 25]\n",
      " [27 28 29 30 31 32 33  2 34 35]\n",
      " [37 38 39  4  1  5 40 41 42 43]\n",
      " [ 1  5 44 45  6  1 46 47 48 49]\n",
      " [ 1 50 51 52 53 54  6 55 56 57]]\n",
      "[('я', 1), ('та', 2), ('ла', 3), ('і', 4), ('не', 5), ('тому', 6), ('обожнюю', 7), ('подорожувати', 8), ('відкриття', 9), ('нових', 10), ('місць', 11), ('культур', 12), ('приносить', 13), ('мені', 14), ('велику', 15), ('радість', 16), ('нещодавно', 17), ('відвідав', 18), ('італію', 19), ('був', 20), ('вражений', 21), ('а', 22), ('красою', 23), ('риму', 24), ('флоренції', 25), ('планую', 26), ('поїздку', 27), ('до', 28), ('японії', 29), ('щоб', 30), ('побачити', 31), ('гору', 32), ('фудзі', 33), ('інші', 34), (\"пам'ятки\", 35), ('подорожі', 36), ('це', 37), ('занадто', 38), ('дорого', 39), ('можу', 40), ('собі', 41), ('їх', 42), ('дозволити', 43), ('люблю', 44), ('літати', 45), ('уникаю', 46), ('подорожей', 47), ('за', 48), ('кордон', 49), ('боюся', 50), ('їздити', 51), ('в', 52), ('незнайомі', 53), ('місця', 54), ('волію', 55), ('залишатися', 56), ('вдома', 57)]\n",
      "(6, 10) (6, 2)\n",
      "Model: \"sequential\"\n",
      "_________________________________________________________________\n",
      " Layer (type)                Output Shape              Param #   \n",
      "=================================================================\n",
      " embedding (Embedding)       (None, 10, 256)           256000    \n",
      "                                                                 \n",
      " gru (GRU)                   (None, 10, 128)           148224    \n",
      "                                                                 \n",
      " gru_1 (GRU)                 (None, 10, 128)           99072     \n",
      "                                                                 \n",
      " gru_2 (GRU)                 (None, 64)                37248     \n",
      "                                                                 \n",
      " dense (Dense)               (None, 2)                 130       \n",
      "                                                                 \n",
      "=================================================================\n",
      "Total params: 540674 (2.06 MB)\n",
      "Trainable params: 540674 (2.06 MB)\n",
      "Non-trainable params: 0 (0.00 Byte)\n",
      "_________________________________________________________________\n"
     ]
    },
    {
     "name": "stderr",
     "output_type": "stream",
     "text": [
      "WARNING:absl:`lr` is deprecated in Keras optimizer, please use `learning_rate` or use the legacy optimizer, e.g.,tf.keras.optimizers.legacy.RMSprop.\n"
     ]
    },
    {
     "name": "stdout",
     "output_type": "stream",
     "text": [
      "Epoch 1/50\n",
      "1/1 [==============================] - 5s 5s/step - loss: 0.6952 - accuracy: 0.5000\n",
      "Epoch 2/50\n",
      "1/1 [==============================] - 0s 19ms/step - loss: 0.6582 - accuracy: 1.0000\n",
      "Epoch 3/50\n",
      "1/1 [==============================] - 0s 16ms/step - loss: 0.6043 - accuracy: 0.8333\n",
      "Epoch 4/50\n",
      "1/1 [==============================] - 0s 15ms/step - loss: 0.4738 - accuracy: 1.0000\n",
      "Epoch 5/50\n",
      "1/1 [==============================] - 0s 17ms/step - loss: 0.2367 - accuracy: 1.0000\n",
      "Epoch 6/50\n",
      "1/1 [==============================] - 0s 15ms/step - loss: 0.0493 - accuracy: 1.0000\n",
      "Epoch 7/50\n",
      "1/1 [==============================] - 0s 15ms/step - loss: 0.0128 - accuracy: 1.0000\n",
      "Epoch 8/50\n",
      "1/1 [==============================] - 0s 14ms/step - loss: 0.0072 - accuracy: 1.0000\n",
      "Epoch 9/50\n",
      "1/1 [==============================] - 0s 18ms/step - loss: 0.0049 - accuracy: 1.0000\n",
      "Epoch 10/50\n",
      "1/1 [==============================] - 0s 18ms/step - loss: 0.0036 - accuracy: 1.0000\n",
      "Epoch 11/50\n",
      "1/1 [==============================] - 0s 16ms/step - loss: 0.0028 - accuracy: 1.0000\n",
      "Epoch 12/50\n",
      "1/1 [==============================] - 0s 14ms/step - loss: 0.0023 - accuracy: 1.0000\n",
      "Epoch 13/50\n",
      "1/1 [==============================] - 0s 15ms/step - loss: 0.0019 - accuracy: 1.0000\n",
      "Epoch 14/50\n",
      "1/1 [==============================] - 0s 14ms/step - loss: 0.0016 - accuracy: 1.0000\n",
      "Epoch 15/50\n",
      "1/1 [==============================] - 0s 14ms/step - loss: 0.0014 - accuracy: 1.0000\n",
      "Epoch 16/50\n",
      "1/1 [==============================] - 0s 15ms/step - loss: 0.0012 - accuracy: 1.0000\n",
      "Epoch 17/50\n",
      "1/1 [==============================] - 0s 13ms/step - loss: 0.0011 - accuracy: 1.0000\n",
      "Epoch 18/50\n",
      "1/1 [==============================] - 0s 14ms/step - loss: 9.6412e-04 - accuracy: 1.0000\n",
      "Epoch 19/50\n",
      "1/1 [==============================] - 0s 14ms/step - loss: 8.6646e-04 - accuracy: 1.0000\n",
      "Epoch 20/50\n",
      "1/1 [==============================] - 0s 16ms/step - loss: 7.8384e-04 - accuracy: 1.0000\n",
      "Epoch 21/50\n",
      "1/1 [==============================] - 0s 16ms/step - loss: 7.1323e-04 - accuracy: 1.0000\n",
      "Epoch 22/50\n",
      "1/1 [==============================] - 0s 20ms/step - loss: 6.5225e-04 - accuracy: 1.0000\n",
      "Epoch 23/50\n",
      "1/1 [==============================] - 0s 16ms/step - loss: 5.9924e-04 - accuracy: 1.0000\n",
      "Epoch 24/50\n",
      "1/1 [==============================] - 0s 16ms/step - loss: 5.5274e-04 - accuracy: 1.0000\n",
      "Epoch 25/50\n",
      "1/1 [==============================] - 0s 16ms/step - loss: 5.1173e-04 - accuracy: 1.0000\n",
      "Epoch 26/50\n",
      "1/1 [==============================] - 0s 17ms/step - loss: 4.7535e-04 - accuracy: 1.0000\n",
      "Epoch 27/50\n",
      "1/1 [==============================] - 0s 14ms/step - loss: 4.4288e-04 - accuracy: 1.0000\n",
      "Epoch 28/50\n",
      "1/1 [==============================] - 0s 15ms/step - loss: 4.1381e-04 - accuracy: 1.0000\n",
      "Epoch 29/50\n",
      "1/1 [==============================] - 0s 15ms/step - loss: 3.8763e-04 - accuracy: 1.0000\n",
      "Epoch 30/50\n",
      "1/1 [==============================] - 0s 17ms/step - loss: 3.6396e-04 - accuracy: 1.0000\n",
      "Epoch 31/50\n",
      "1/1 [==============================] - 0s 15ms/step - loss: 3.4255e-04 - accuracy: 1.0000\n",
      "Epoch 32/50\n",
      "1/1 [==============================] - 0s 16ms/step - loss: 3.2300e-04 - accuracy: 1.0000\n",
      "Epoch 33/50\n",
      "1/1 [==============================] - 0s 20ms/step - loss: 3.0517e-04 - accuracy: 1.0000\n",
      "Epoch 34/50\n",
      "1/1 [==============================] - 0s 18ms/step - loss: 2.8886e-04 - accuracy: 1.0000\n",
      "Epoch 35/50\n",
      "1/1 [==============================] - 0s 17ms/step - loss: 2.7386e-04 - accuracy: 1.0000\n",
      "Epoch 36/50\n",
      "1/1 [==============================] - 0s 16ms/step - loss: 2.6010e-04 - accuracy: 1.0000\n",
      "Epoch 37/50\n",
      "1/1 [==============================] - 0s 16ms/step - loss: 2.4741e-04 - accuracy: 1.0000\n",
      "Epoch 38/50\n",
      "1/1 [==============================] - 0s 16ms/step - loss: 2.3561e-04 - accuracy: 1.0000\n",
      "Epoch 39/50\n",
      "1/1 [==============================] - 0s 15ms/step - loss: 2.2472e-04 - accuracy: 1.0000\n",
      "Epoch 40/50\n",
      "1/1 [==============================] - 0s 16ms/step - loss: 2.1463e-04 - accuracy: 1.0000\n",
      "Epoch 41/50\n",
      "1/1 [==============================] - 0s 14ms/step - loss: 2.0524e-04 - accuracy: 1.0000\n",
      "Epoch 42/50\n",
      "1/1 [==============================] - 0s 14ms/step - loss: 1.9648e-04 - accuracy: 1.0000\n",
      "Epoch 43/50\n",
      "1/1 [==============================] - 0s 14ms/step - loss: 1.8827e-04 - accuracy: 1.0000\n",
      "Epoch 44/50\n",
      "1/1 [==============================] - 0s 18ms/step - loss: 1.8064e-04 - accuracy: 1.0000\n",
      "Epoch 45/50\n",
      "1/1 [==============================] - 0s 15ms/step - loss: 1.7347e-04 - accuracy: 1.0000\n",
      "Epoch 46/50\n",
      "1/1 [==============================] - 0s 24ms/step - loss: 1.6676e-04 - accuracy: 1.0000\n",
      "Epoch 47/50\n",
      "1/1 [==============================] - 0s 17ms/step - loss: 1.6044e-04 - accuracy: 1.0000\n",
      "Epoch 48/50\n",
      "1/1 [==============================] - 0s 18ms/step - loss: 1.5452e-04 - accuracy: 1.0000\n",
      "Epoch 49/50\n",
      "1/1 [==============================] - 0s 16ms/step - loss: 1.4894e-04 - accuracy: 1.0000\n",
      "Epoch 50/50\n",
      "1/1 [==============================] - 0s 15ms/step - loss: 1.4368e-04 - accuracy: 1.0000\n"
     ]
    }
   ],
   "source": [
    "import os\n",
    "\n",
    "import numpy as np\n",
    "import re\n",
    "\n",
    "from tensorflow.keras.layers import Dense, GRU, Input, Dropout, Embedding\n",
    "from tensorflow.keras.models import Sequential\n",
    "from tensorflow.keras.optimizers import RMSprop\n",
    "from tensorflow.keras.preprocessing.text import Tokenizer, text_to_word_sequence\n",
    "from tensorflow.keras.preprocessing.sequence import pad_sequences\n",
    "\n",
    "# Позитивний текст\n",
    "texts_true = [\n",
    "    \"Я обожнюю подорожувати! Відкриття нових місць та культур приносить мені велику радість.\",\n",
    "    \"Нещодавно я відвідав(ла) Італію і був(ла) вражений(а) красою Риму та Флоренції.\",\n",
    "    \"Планую поїздку до Японії, щоб побачити гору Фудзі та інші пам'ятки.\",\n",
    "]\n",
    "\n",
    "# Негативний текст\n",
    "texts_false = [\n",
    "    \"Подорожі - це занадто дорого, і я не можу собі їх дозволити.\",\n",
    "    \"Я не люблю літати, тому я уникаю подорожей за кордон.\",\n",
    "    \"Я боюся їздити в незнайомі місця, тому волію залишатися вдома.\",\n",
    "]\n",
    "\n",
    "texts = texts_true + texts_false\n",
    "count_true = len(texts_true)\n",
    "count_false = len(texts_false)\n",
    "total_lines = count_true + count_false\n",
    "print(count_true, count_false, total_lines)\n",
    "\n",
    "\n",
    "maxWordsCount = 1000\n",
    "tokenizer = Tokenizer(num_words=maxWordsCount, filters='!–\"—#$%&amp;()*+,-./:;<=>?@[\\\\]^_`{|}~\\t\\n\\r«»', lower=True, split=' ', char_level=False)\n",
    "tokenizer.fit_on_texts(texts)\n",
    "\n",
    "dist = list(tokenizer.word_counts.items())\n",
    "print(dist[:10])\n",
    "print(texts[0][:100])\n",
    "\n",
    "\n",
    "max_text_len = 10\n",
    "data = tokenizer.texts_to_sequences(texts)\n",
    "data_pad = pad_sequences(data, maxlen=max_text_len)\n",
    "print(data_pad)\n",
    "\n",
    "print( list(tokenizer.word_index.items()) )\n",
    "\n",
    "\n",
    "X = data_pad\n",
    "Y = np.array([[1, 0]]*count_true + [[0, 1]]*count_false)\n",
    "print(X.shape, Y.shape)\n",
    "\n",
    "indeces = np.random.choice(X.shape[0], size=X.shape[0], replace=False)\n",
    "X = X[indeces]\n",
    "Y = Y[indeces]\n",
    "\n",
    "\n",
    "model = Sequential()\n",
    "model.add(Embedding(maxWordsCount, 256, input_length = max_text_len))\n",
    "model.add(GRU(128, return_sequences=True))\n",
    "model.add(GRU(128, return_sequences=True))\n",
    "model.add(GRU(64))\n",
    "model.add(Dense(2, activation='sigmoid'))\n",
    "model.summary()\n",
    "\n",
    "model.compile(loss='categorical_crossentropy', metrics=['accuracy'], optimizer=RMSprop(lr=0.00005))\n",
    "\n",
    "history = model.fit(X, Y, batch_size=32, epochs=50)\n",
    "\n",
    "reverse_word_map = dict(map(reversed, tokenizer.word_index.items()))\n",
    "\n",
    "def sequence_to_text(list_of_indices):\n",
    "    words = [reverse_word_map.get(letter) for letter in list_of_indices]\n",
    "    return(words)"
   ]
  },
  {
   "cell_type": "code",
   "execution_count": 2,
   "id": "039b3821",
   "metadata": {},
   "outputs": [
    {
     "name": "stdout",
     "output_type": "stream",
     "text": [
      "['мені', 'приносить', 'велику', 'радість', 'місць']\n",
      "1/1 [==============================] - 1s 922ms/step\n"
     ]
    }
   ],
   "source": [
    "t = \"Мені приносить велику радість відвідування ноних місць.\".lower()\n",
    "data = tokenizer.texts_to_sequences([t])\n",
    "data_pad = pad_sequences(data, maxlen=max_text_len)\n",
    "print( sequence_to_text(data[0]) )\n",
    "\n",
    "res = model.predict(data_pad)\n"
   ]
  },
  {
   "cell_type": "code",
   "execution_count": 3,
   "id": "3d2356f2-f94d-4fd3-8580-53cfbccd9e6d",
   "metadata": {
    "tags": []
   },
   "outputs": [
    {
     "name": "stdout",
     "output_type": "stream",
     "text": [
      "Результат. Текст позитивний.\n"
     ]
    }
   ],
   "source": [
    "# Визначення результату\n",
    "if np.argmax(res) == 0:\n",
    "    print(\"Результат. Текст позитивний.\")\n",
    "else:\n",
    "    print(\"Результат. Текст негативний.\")"
   ]
  },
  {
   "cell_type": "code",
   "execution_count": 4,
   "id": "e8f76f47-b9a8-494e-bdc5-8fc231e73d45",
   "metadata": {
    "tags": []
   },
   "outputs": [
    {
     "name": "stdout",
     "output_type": "stream",
     "text": [
      "['я', 'літати', 'тому', 'вдома']\n",
      "1/1 [==============================] - 0s 19ms/step\n"
     ]
    }
   ],
   "source": [
    "t1 = \"Я боюсь літати, тому сиджу вдома.\".lower()\n",
    "data1 = tokenizer.texts_to_sequences([t1])\n",
    "data1_pad = pad_sequences(data1, maxlen=max_text_len)\n",
    "print( sequence_to_text(data1[0]) )\n",
    "\n",
    "res1 = model.predict(data1_pad)\n"
   ]
  },
  {
   "cell_type": "code",
   "execution_count": 5,
   "id": "3a02431e-4050-43e7-b2e3-36f87310a877",
   "metadata": {
    "tags": []
   },
   "outputs": [
    {
     "name": "stdout",
     "output_type": "stream",
     "text": [
      "Результат. Текст негативний.\n"
     ]
    }
   ],
   "source": [
    "# Визначення результату\n",
    "if np.argmax(res) == 0:\n",
    "    print(\"Результат. Текст негативний.\")\n",
    "else:\n",
    "    print(\"Результат. Текст позитивний.\")"
   ]
  },
  {
   "cell_type": "markdown",
   "id": "a64e5c73",
   "metadata": {},
   "source": [
    "Висновок: на лабораторній роботі я навчився створювати RNN для семантичного аналізу з використанням моделі GRU."
   ]
  }
 ],
 "metadata": {
  "kernelspec": {
   "display_name": "Python 3 (ipykernel)",
   "language": "python",
   "name": "python3"
  },
  "language_info": {
   "codemirror_mode": {
    "name": "ipython",
    "version": 3
   },
   "file_extension": ".py",
   "mimetype": "text/x-python",
   "name": "python",
   "nbconvert_exporter": "python",
   "pygments_lexer": "ipython3",
   "version": "3.11.4"
  }
 },
 "nbformat": 4,
 "nbformat_minor": 5
}
